{
 "cells": [
  {
   "cell_type": "code",
   "execution_count": 2,
   "id": "c2e92c74",
   "metadata": {},
   "outputs": [],
   "source": [
    "%config Completer.use_jedi = False"
   ]
  },
  {
   "cell_type": "code",
   "execution_count": 20,
   "id": "9255843b",
   "metadata": {
    "collapsed": true
   },
   "outputs": [
    {
     "name": "stdout",
     "output_type": "stream",
     "text": [
      "Requirement already satisfied: selenium in c:\\users\\heechan\\anaconda3\\lib\\site-packages (4.2.0)\n",
      "Requirement already satisfied: webdriver-manager in c:\\users\\heechan\\anaconda3\\lib\\site-packages (3.7.0)\n",
      "Requirement already satisfied: trio-websocket~=0.9 in c:\\users\\heechan\\anaconda3\\lib\\site-packages (from selenium) (0.9.2)\n",
      "Requirement already satisfied: urllib3[secure,socks]~=1.26 in c:\\users\\heechan\\anaconda3\\lib\\site-packages (from selenium) (1.26.18)\n",
      "Requirement already satisfied: trio~=0.17 in c:\\users\\heechan\\anaconda3\\lib\\site-packages (from selenium) (0.21.0)\n",
      "Requirement already satisfied: requests in c:\\users\\heechan\\anaconda3\\lib\\site-packages (from webdriver-manager) (2.32.3)\n",
      "Requirement already satisfied: python-dotenv in c:\\users\\heechan\\anaconda3\\lib\\site-packages (from webdriver-manager) (0.20.0)\n",
      "Requirement already satisfied: async-generator>=1.9 in c:\\users\\heechan\\anaconda3\\lib\\site-packages (from trio~=0.17->selenium) (1.10)\n",
      "Requirement already satisfied: cffi>=1.14 in c:\\users\\heechan\\anaconda3\\lib\\site-packages (from trio~=0.17->selenium) (1.15.0)\n",
      "Requirement already satisfied: attrs>=19.2.0 in c:\\users\\heechan\\anaconda3\\lib\\site-packages (from trio~=0.17->selenium) (24.2.0)\n",
      "Requirement already satisfied: idna in c:\\users\\heechan\\anaconda3\\lib\\site-packages (from trio~=0.17->selenium) (3.3)\n",
      "Requirement already satisfied: outcome in c:\\users\\heechan\\anaconda3\\lib\\site-packages (from trio~=0.17->selenium) (1.2.0)\n",
      "Requirement already satisfied: sortedcontainers in c:\\users\\heechan\\anaconda3\\lib\\site-packages (from trio~=0.17->selenium) (2.4.0)\n",
      "Requirement already satisfied: sniffio in c:\\users\\heechan\\anaconda3\\lib\\site-packages (from trio~=0.17->selenium) (1.2.0)\n",
      "Requirement already satisfied: pycparser in c:\\users\\heechan\\anaconda3\\lib\\site-packages (from cffi>=1.14->trio~=0.17->selenium) (2.21)\n",
      "Requirement already satisfied: wsproto>=0.14 in c:\\users\\heechan\\anaconda3\\lib\\site-packages (from trio-websocket~=0.9->selenium) (1.1.0)\n",
      "Requirement already satisfied: cryptography>=1.3.4 in c:\\users\\heechan\\anaconda3\\lib\\site-packages (from urllib3[secure,socks]~=1.26->selenium) (3.4.8)\n",
      "Collecting urllib3-secure-extra\n",
      "  Downloading urllib3_secure_extra-0.1.0-py2.py3-none-any.whl (1.4 kB)\n",
      "Requirement already satisfied: certifi in c:\\users\\heechan\\anaconda3\\lib\\site-packages (from urllib3[secure,socks]~=1.26->selenium) (2021.10.8)\n",
      "Requirement already satisfied: pyOpenSSL>=0.14 in c:\\users\\heechan\\anaconda3\\lib\\site-packages (from urllib3[secure,socks]~=1.26->selenium) (21.0.0)\n",
      "Requirement already satisfied: PySocks!=1.5.7,<2.0,>=1.5.6 in c:\\users\\heechan\\anaconda3\\lib\\site-packages (from urllib3[secure,socks]~=1.26->selenium) (1.7.1)\n",
      "Requirement already satisfied: six>=1.5.2 in c:\\users\\heechan\\anaconda3\\lib\\site-packages (from pyOpenSSL>=0.14->urllib3[secure,socks]~=1.26->selenium) (1.16.0)\n",
      "Requirement already satisfied: h11<1,>=0.9.0 in c:\\users\\heechan\\anaconda3\\lib\\site-packages (from wsproto>=0.14->trio-websocket~=0.9->selenium) (0.13.0)\n",
      "Requirement already satisfied: charset-normalizer<4,>=2 in c:\\users\\heechan\\anaconda3\\lib\\site-packages (from requests->webdriver-manager) (2.0.4)\n",
      "Installing collected packages: urllib3-secure-extra\n",
      "Successfully installed urllib3-secure-extra-0.1.0\n"
     ]
    }
   ],
   "source": [
    "!pip install selenium webdriver-manager"
   ]
  },
  {
   "cell_type": "code",
   "execution_count": 4,
   "id": "3ebbf141",
   "metadata": {},
   "outputs": [
    {
     "name": "stdout",
     "output_type": "stream",
     "text": [
      "Hello World\n"
     ]
    }
   ],
   "source": [
    "import requests as req\n",
    "import bs4\n",
    "from selenium import webdriver\n",
    "from selenium.webdriver.chrome.service import Service\n",
    "from webdriver_manager.chrome import ChromeDriverManager\n",
    "from selenium.webdriver.common.by import By\n",
    "from selenium.webdriver.common.action_chains import ActionChains\n",
    "\n",
    "import time\n",
    "import random\n",
    "import math\n",
    "import json\n",
    "\n",
    "print(\"Hello World\")"
   ]
  },
  {
   "cell_type": "code",
   "execution_count": 7,
   "id": "47f2bbc6",
   "metadata": {},
   "outputs": [],
   "source": [
    "CHROM_DRIVE_PATH = \"/workspace/chromedriver/133.0.6943.142/chromedriver.exe\"\n",
    "BASE_URL = \"https://m.stock.naver.com/domestic/industry\""
   ]
  },
  {
   "cell_type": "code",
   "execution_count": 6,
   "id": "d0b552d4",
   "metadata": {},
   "outputs": [],
   "source": [
    "service = Service(CHROM_DRIVE_PATH)\n",
    "driver = webdriver.Chrome(service=service)\n",
    "\n",
    "actions = ActionChains(driver)"
   ]
  },
  {
   "cell_type": "code",
   "execution_count": 8,
   "id": "83133978",
   "metadata": {},
   "outputs": [],
   "source": [
    "driver.get(BASE_URL)"
   ]
  },
  {
   "cell_type": "code",
   "execution_count": 9,
   "id": "9c1b062e",
   "metadata": {
    "scrolled": true
   },
   "outputs": [],
   "source": [
    "def get_categoty_list():\n",
    "    res = driver.page_source\n",
    "    soup = bs4.BeautifulSoup(res)\n",
    "    list_items = soup.select(\"ul.StockCategory_list__IuLu4 > li\")\n",
    "    return list(map(lambda x : x.text, list_items))\n",
    "\n",
    "def get_stock_list():\n",
    "    def formatting(row):\n",
    "        col_list = row.select(\"td\")\n",
    "\n",
    "        code = col_list[0].select(\"span\")[0].text \n",
    "\n",
    "        company_name = col_list[0].select(\"span\")[1].text\n",
    "\n",
    "        # 현재가, 증감액\n",
    "        current_price = float(col_list[1].select(\"span\")[0].text.replace(\",\", \"\"))\n",
    "        change_price = float(col_list[1].select(\"span\")[1].select(\"span\")[0].text.replace(\",\", \"\"))\n",
    "\n",
    "        # 증감 비율\n",
    "        change_rate = float(col_list[2].text[:-1])\n",
    "\n",
    "        # 시가 총액, 거래량\n",
    "        market_cap = int(col_list[3].text.replace(\",\", \"\") + \"000\")\n",
    "        trade_value = col_list[4].text.replace(\",\", \"\")\n",
    "        if(trade_value == \"-\"):\n",
    "            trade_value = 0\n",
    "        trade_value = int(trade_value)\n",
    "\n",
    "        return {\n",
    "            \"code\": code,\n",
    "            \"회사명\": company_name,\n",
    "            \"현재가\": current_price,\n",
    "            \"증감액\": change_price,\n",
    "            \"증감비율\": change_rate,\n",
    "            \"시가총액\": market_cap,\n",
    "            \"거래량\": trade_value,\n",
    "        }\n",
    "    \n",
    "    res = driver.page_source\n",
    "    soup = bs4.BeautifulSoup(res)\n",
    "\n",
    "    return list(map(formatting, soup.select(\"tr.TableComm_tr__QEe9V\")))\n",
    "\n",
    "def get_page_rate():\n",
    "    res = driver.page_source\n",
    "    soup = bs4.BeautifulSoup(res)\n",
    "    rate_num = soup.select(\".VMore_link__Tsoh9 span\")[1].text.split(\" / \")\n",
    "    return tuple(map(int, rate_num))"
   ]
  },
  {
   "cell_type": "code",
   "execution_count": null,
   "id": "34c6e280",
   "metadata": {},
   "outputs": [],
   "source": [
    "def progress_bar(current, total, category, length=20):\\n\n",
    "        ratio = current / total  # 진행률 계산\\n\n",
    "        filled_blocks = int(length * ratio)  # ■ 개수\\n\n",
    "    \"    empty_blocks = length - filled_blocks  # □ 개수\\n\",\n",
    "    \"\\n\",\n",
    "    \"    bar = \\\"■\\\" * filled_blocks + \\\"□\\\" * empty_blocks\\n\",\n",
    "    \"    percent = round(ratio * 100, 2)  # 퍼센트 표시 (소수점 2자리)\\n\",\n",
    "    \"    \\n\",\n",
    "    \"    print(f\\\"[{bar}] {percent}% ({current}/{total}, {category})\\\", end=\\\"\\\\r\\\")\""
   ]
  },
  {
   "cell_type": "code",
   "execution_count": 11,
   "id": "2ef004c4",
   "metadata": {},
   "outputs": [],
   "source": [
    "categoty_list = get_categoty_list()"
   ]
  },
  {
   "cell_type": "code",
   "execution_count": 12,
   "id": "0be5e52f",
   "metadata": {},
   "outputs": [
    {
     "data": {
      "text/plain": [
       "[]"
      ]
     },
     "execution_count": 12,
     "metadata": {},
     "output_type": "execute_result"
    }
   ],
   "source": [
    "categoty_list"
   ]
  },
  {
   "cell_type": "code",
   "execution_count": 275,
   "id": "8cad44b9",
   "metadata": {},
   "outputs": [
    {
     "name": "stdout",
     "output_type": "stream",
     "text": [
      "[■■■■■■■■■■■■■■■■■■■□] 99.29% (139/140, 환경 서비스 및 장비) 라인)매))\r"
     ]
    }
   ],
   "source": [
    "# res = []\n",
    "\n",
    "category_count = len(categoty_list)\n",
    "\n",
    "for n, category in enumerate(categoty_list):\n",
    "    if(n < 71):\n",
    "        continue\n",
    "        \n",
    "    progress_bar(n, category_count, category)\n",
    "    list_itme = driver.find_element(by=By.XPATH, value=f'//*[@id=\"stockContentWrapper\"]/div[8]/ul/li[{n + 1}]')\n",
    "    driver.execute_script(\n",
    "        \"arguments[0].scrollIntoView({block: 'center', inline: 'nearest'});\", list_itme\n",
    "    )\n",
    "    list_itme.click()\n",
    "    \n",
    "    time.sleep(random.random())\n",
    "    \n",
    "    rate = 0, 1\n",
    "    \n",
    "    while(True):\n",
    "        try:\n",
    "            reate = get_page_rate()\n",
    "            break\n",
    "        except:\n",
    "            driver.execute_script(\"window.scrollTo(0, document.body.scrollHeight);\")\n",
    "            time.sleep(1 + random.random())\n",
    "        \n",
    "    \n",
    "    for i in range(math.ceil(rate[1] / max(rate[0], 1))):\n",
    "        try:\n",
    "            driver.execute_script(\"window.scrollTo(0, document.body.scrollHeight);\")\n",
    "\n",
    "            more_button = driver.find_element(by=By.XPATH, value='/html/body/div[1]/div[1]/div[2]/div/div/div[10]/div/a')\n",
    "            actions.move_to_element(more_button).perform()\n",
    "            more_button.click()\n",
    "\n",
    "            time.sleep(0.1 + random.random())\n",
    "        except:\n",
    "            time.sleep(2 + random.random())\n",
    "            \n",
    "    stock_list = get_stock_list()\n",
    "    \n",
    "    res.append({\n",
    "        \"카테코리\" : category,\n",
    "        \"주식 목록\" : stock_list,\n",
    "    })\n",
    "    \n",
    "    driver.execute_script(\"window.scrollTo(0, 0);\")\n",
    "    \n",
    "    prev_button = driver.find_element(by=By.XPATH, value='//*[@id=\"stockContentWrapper\"]/div[8]/div/a')\n",
    "    prev_button.click()\n",
    "    \n",
    "    time.sleep(1.5 + random.random())\n",
    "#     break\n",
    "#     if(n == 4):\n",
    "#         break"
   ]
  },
  {
   "cell_type": "code",
   "execution_count": 253,
   "id": "310f8df6",
   "metadata": {},
   "outputs": [],
   "source": []
  },
  {
   "cell_type": "code",
   "execution_count": 258,
   "id": "bcb6c6b2",
   "metadata": {},
   "outputs": [],
   "source": [
    "list_itme = driver.find_element(by=By.XPATH, value=f'//*[@id=\"stockContentWrapper\"]/div[8]/ul/li[{10}]')\n",
    "driver.execute_script(\n",
    "    \"arguments[0].scrollIntoView({block: 'center', inline: 'nearest'});\", list_itme\n",
    ")\n",
    "# list_itme.click()"
   ]
  },
  {
   "cell_type": "code",
   "execution_count": 279,
   "id": "fb2fcee2",
   "metadata": {},
   "outputs": [],
   "source": [
    "with open(\"stock_data.json\", \"w\", encoding=\"utf-8\") as file:\n",
    "    json.dump(res, file, ensure_ascii=False, indent=4)  "
   ]
  }
 ],
 "metadata": {
  "kernelspec": {
   "display_name": "Python 3 (ipykernel)",
   "language": "python",
   "name": "python3"
  },
  "language_info": {
   "codemirror_mode": {
    "name": "ipython",
    "version": 3
   },
   "file_extension": ".py",
   "mimetype": "text/x-python",
   "name": "python",
   "nbconvert_exporter": "python",
   "pygments_lexer": "ipython3",
   "version": "3.9.12"
  }
 },
 "nbformat": 4,
 "nbformat_minor": 5
}
